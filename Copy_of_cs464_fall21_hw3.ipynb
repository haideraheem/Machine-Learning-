{
  "cells": [
    {
      "cell_type": "markdown",
      "metadata": {
        "id": "view-in-github",
        "colab_type": "text"
      },
      "source": [
        "<a href=\"https://colab.research.google.com/github/haideraheem/Machine-Learning-/blob/main/Copy_of_cs464_fall21_hw3.ipynb\" target=\"_parent\"><img src=\"https://colab.research.google.com/assets/colab-badge.svg\" alt=\"Open In Colab\"/></a>"
      ]
    },
    {
      "cell_type": "markdown",
      "metadata": {
        "id": "KDSS2c_hXISc"
      },
      "source": [
        "**<h1><center>CS 464</center></h1>**\n",
        "**<h1><center>Introduction to Machine Learning</center></h1>**\n",
        "**<h1><center>Fall 2021</center></h1>**\n",
        "**<h1><center>Homework 3</center></h1>**\n",
        "<h4><center>Due: Jan 02, 2022 17:00 (GMT+3)</center></h4>"
      ]
    },
    {
      "cell_type": "markdown",
      "metadata": {
        "id": "W5qurNR3XkKT"
      },
      "source": [
        "### Instructions\n",
        "\n",
        "<ul>\n",
        "    <li>\n",
        "    This homework contains both written and programming questions about neural networks. You should implement programming questions on this notebook. Your plots should also be produced in this notebook. Each programming question has its own cell for your answer. You can implement your code directly in these cells, or you can call required functions which are defined in a different location for the given question.\n",
        "    </li>\n",
        "    <li>\n",
        "    For questions that you need to plot, your plot results have to be included in the cell output. For written questions, you may provide them either as comments in code cells or as seperate text cells. \n",
        "    </li>\n",
        "    <li>\n",
        "    You are <b>NOT ALLOWED</b> to use different libraries than given libraries in the code segments of this homework except for libraries inclueded in Python Standard Library (https://docs.python.org/3/library/).\n",
        "    </li>\n",
        "    <li>\n",
        "    You are <b>NOT ALLOWED</b> to use a different deep learning framework than PyTorch.\n",
        "    </li>\n",
        "    <li>\n",
        "    While submitting the homework file, please package notebook(\".ipynb\") and model (\".pth\") files as a gzipped TAR file or a ZIP file with the name cs464_hw3_section#_Firstname_Lastname. Please do not use any Turkish letters for any of your files including code files and model files. Upload your homework to Moodle.\n",
        "    </li>\n",
        "    <li>\n",
        "    This is an individual assignment for each student. That is, you are NOT allowed to share your work with your classmates.</li>\n",
        "    <li> \n",
        "    If you do not follow the submission routes, deadlines and specifications, it will lead to a significant grade deduction.\n",
        "    </li>\n",
        "    <li> \n",
        "    If you have any questions, please contact \"hakansivuk@gmail.com\".\n",
        "    </li>\n",
        "\n",
        "</ul>"
      ]
    },
    {
      "cell_type": "markdown",
      "metadata": {
        "id": "9d7BOVodYiGe"
      },
      "source": [
        "## Environment Setup"
      ]
    },
    {
      "cell_type": "markdown",
      "metadata": {
        "id": "EPlCx2GsYnHS"
      },
      "source": [
        "This homewrok is prepeared by using Google CoLab which already has required libraries. However, if you are using your own local Jupyter or any other Python notebook editor, you may use both anaconda or pip to install PyTorch to your own computer."
      ]
    },
    {
      "cell_type": "markdown",
      "metadata": {
        "id": "LM4dpplWZBGS"
      },
      "source": [
        "### Anaconda Installation\n",
        "\n",
        "<ul>\n",
        "    <li>Download anaconda from https://www.anaconda.com/download</li>\n",
        "    <li>Follow the instructions provided in https://conda.io/docs/user-guide/install/index.html#regular-installation</li>\n",
        "</ul>\n",
        "\n",
        "#### Creation of Virtual Environment\n",
        "\n",
        "<ul>\n",
        "    <li>Create python3.7 virtual environment for your hw3 using follow command from the command line<br>\n",
        "        <i>> conda create -n HW3 python=3.7 anaconda</i></li>\n",
        "    <li>Activate your virtual environment<br>\n",
        "        <i>> source activate HW3</i></li>\n",
        "    <li>To install auxiliary libraries, replace the \"package_name\" in the following command and run it in activated \"hw3\" environment <br>\n",
        "        <i>> pip install \"package_name\"<i></li>\n",
        "     <li>When you create your virtual environment with \"anaconda\" metapackage, jupyter notebook should be installed. Try:<br>\n",
        "         <i>> jupyter notebook</i>\n",
        "</ul>\n",
        "\n",
        "\n",
        "#### Pytorch Installation with Anaconda\n",
        "\n",
        "You should install PyTorch to your virtual environment which is created for the hw3. Therefore, you should activate your homework virtual environment before to start PyTorch installation.\n",
        "<li>> source activate HW3</li>\n",
        "\n",
        "After you have activated the virtual environment, then use one of the following commands to install pytorch for CPU for your system. See https://pytorch.org/ for help.\n",
        "<ul>\n",
        "<li>For MacOS:<br>\n",
        "    <i>> conda install pytorch torchvision -c pytorch</i>\n",
        "</li>\n",
        "<li>For Linux:<br>\n",
        "    <i>> conda install pytorch-cpu torchvision-cpu -c pytorch</i>\n",
        "</li>\n",
        "<li>For Windows:<br>\n",
        "    <i>> conda install pytorch-cpu torchvision-cpu -c pytorch</i><br>\n",
        "</li>"
      ]
    },
    {
      "cell_type": "markdown",
      "metadata": {
        "id": "AVlcWIXEZZGO"
      },
      "source": [
        "###Pip3 Installation\n",
        "<ul>\n",
        "    <li>Download pip3 from https://pip.pypa.io/en/stable/installing/</li>\n",
        "    <li>If you are using Windows, you may need to add Python to your enviroment variables. You may use the following tutorial to install Python and pip.\n",
        "    https://phoenixnap.com/kb/how-to-install-python-3-windows</li>\n",
        "</ul>\n",
        "\n",
        "#### PyTorch Installation with Pip\n",
        "<ul>\n",
        "<li>For MacOS:<br>\n",
        "    <i>> pip3 install torch torchvision</i>\n",
        "</li>\n",
        "<li>For Linux:<br>\n",
        "    <i>> pip3 install torch==1.3.1+cpu torchvision==0.4.2+cpu -f https://download.pytorch.org/whl/torch_stable.html</i>\n",
        "</li>\n",
        "<li>For Windows:<br>\n",
        "    <i>> pip3 install torch==1.3.1+cpu torchvision==0.4.2+cpu -f https://download.pytorch.org/whl/torch_stable.html</i><br>\n",
        "</li>\n"
      ]
    },
    {
      "cell_type": "markdown",
      "metadata": {
        "id": "I0CsUtpmZmBk"
      },
      "source": [
        "##Question 1 [12 pts.]\n",
        "\n",
        "Answer the given questions with **at most a sentence**.\n",
        "\n",
        "  >a) Why do people use validation data?<br>\n",
        "\n",
        "  >b) What is the difference between mean squared error and mean absolute error?  <br>\n",
        "\n",
        "  >c) What is the main problem of using sigmoid as activation function in an artificial neural network (ANN)?<br>\n",
        "\n",
        ">d) What does it mean to overfit your data model?<br>\n",
        "\n",
        "  >e) Your input image size is 3x64x64. If you apply 3x3 convolution with input_channel=3, output_channel=6, padding=0, stride=2, what would be the size of the output?<br>\n",
        "\n",
        "  >f) In the previous question, how many trainable parameters are there? (you should also consider bias terms in addition to weights)<br>\n",
        "\n",
        "\n"
      ]
    },
    {
      "cell_type": "markdown",
      "source": [
        "ANSWERS: \n",
        "\n",
        "Answer a): We use validation data to tune or change the hyper parameters of our model in order to get better accuracy before we test our model on a test set.\n",
        "\n",
        "Answer b) Mean squared error is average squared difference between predicted and true values. It is a risk function or estimator. Whereas the absolute error is a quantity that is used to measure difference of predicted values from the true values. IT is average of absolute differences. \n",
        "\n",
        "Answer c) The gradient of sigmoid function becomes zero as the data number goes to infinity so the neural networks can get stuck due to sigmoid function as activation funciton. \n",
        "\n",
        "Answer d) Overfitting occurs when trained model fits exactly onto the training dataset.\n",
        "\n",
        "e) 31 x 31 x 6\n",
        "\n",
        "f) 168"
      ],
      "metadata": {
        "id": "qkdTRH7S4Is6"
      }
    },
    {
      "cell_type": "markdown",
      "metadata": {
        "id": "fnAVhRr4eTPo"
      },
      "source": [
        "##Question 2 [88 pts.]"
      ]
    },
    {
      "cell_type": "markdown",
      "metadata": {
        "id": "GnaXgIskP6iY"
      },
      "source": [
        "Computer vision (CV) is the field of study that deals with how computers can gain high-level understanding from digital images or videos. Your task for this question is to classify scenes according to their contexts by using simple machine learning algorithms developed for CV problems on scene images.\n",
        "\n",
        "Your dataset consist of scene images from 4 contexts. Images of each context is stored under separate folders in the compressed file given to you.  The dataset has been processed in such a way that each class has approximately 2500 samples.\n",
        "\n",
        "Download the dataset from the following link:\n",
        "<br>\n",
        "https://drive.google.com/file/d/1l51t3aTY7B131fwq92ACI_b_D5Idq5In/view?usp=sharing\n",
        "<br>\n",
        "\n",
        "Libraries that are required in this question is given in the following code cell."
      ]
    },
    {
      "cell_type": "code",
      "execution_count": null,
      "metadata": {
        "colab": {
          "base_uri": "https://localhost:8080/"
        },
        "id": "Z37KSYkSXHtz",
        "outputId": "886b4f0e-80bf-47c5-eade-9d8bfa4620c2"
      },
      "outputs": [
        {
          "output_type": "stream",
          "name": "stdout",
          "text": [
            "Drive already mounted at /content/drive; to attempt to forcibly remount, call drive.mount(\"/content/drive\", force_remount=True).\n"
          ]
        }
      ],
      "source": [
        "# Mount Google Drive\n",
        "from google.colab import drive\n",
        "drive.mount('/content/drive')\n",
        "# PyTorch\n",
        "import torch\n",
        "import torch.nn as nn\n",
        "import torch.nn.functional as F\n",
        "import torchvision.models as models\n",
        "import os\n",
        "import torchvision.transforms as transforms\n",
        "\n",
        "# To Read Data\n",
        "from torch.utils.data import Dataset, DataLoader\n",
        "import numpy as np\n",
        "from PIL import Image\n",
        "# To Interpret results & obtain plots\n",
        "from sklearn.model_selection import train_test_split\n",
        "from sklearn.metrics import confusion_matrix, f1_score, precision_score, recall_score, accuracy_score\n",
        "import matplotlib.pyplot as plt\n",
        "\n",
        "# You could add your own libraries form Python Standard Library in this cell. Any other external libraries are not allowed."
      ]
    },
    {
      "cell_type": "code",
      "execution_count": null,
      "metadata": {
        "id": "uA0HVWS4aGCe"
      },
      "outputs": [],
      "source": [
        ""
      ]
    },
    {
      "cell_type": "markdown",
      "metadata": {
        "id": "Kkd-WIVwTQsn"
      },
      "source": [
        "### Data Loader [6 pts.]\n",
        "\n",
        "An important part of such a task is to implement your own data loader. In this homework, a partial loader is provided to you. This loader is going to be based on a base class named \"Dataset\", provided in PyTorch library. You need to complete the code below to create your custom \"SceneDataset\" class which will be able to load your dataset. Implement the functions whose proptotypes are given. Follow the TODO notes below. You have to divide the files into three sets as <b>train (70%)</b>, \n",
        "<b>validation (10%)</b> and **test (20%)** sets.  These non-overlapping splits, which are subsets of SceneDataset, should be retrieved using the \"get_dataset\" function.\n",
        "\n",
        "Hint: The dataset is not normalized and your results will heavily depend on your input."
      ]
    },
    {
      "cell_type": "code",
      "execution_count": null,
      "metadata": {
        "id": "Y7lBYBmwXWJo"
      },
      "outputs": [],
      "source": [
        "import zipfile\n",
        "with zipfile.ZipFile('/content/drive/MyDrive/data.zip', 'r') as zip_ref:\n",
        "    zip_ref.extractall('data')"
      ]
    },
    {
      "cell_type": "code",
      "execution_count": null,
      "metadata": {
        "colab": {
          "base_uri": "https://localhost:8080/"
        },
        "id": "GIHtl9Z0Z4OU",
        "outputId": "0444f36e-728f-4d56-ed58-c6fe9df2d9ee"
      },
      "outputs": [
        {
          "output_type": "stream",
          "name": "stdout",
          "text": [
            "Drive already mounted at /content/drive; to attempt to forcibly remount, call drive.mount(\"/content/drive\", force_remount=True).\n"
          ]
        }
      ],
      "source": [
        "from google.colab import drive\n",
        "drive.mount('/content/drive')"
      ]
    },
    {
      "cell_type": "code",
      "execution_count": null,
      "metadata": {
        "id": "x9fac_LpYdXE"
      },
      "outputs": [],
      "source": [
        "class SceneDataset(Dataset):\n",
        "    # TODO:\n",
        "    # Define constructor for SceneDataset class\n",
        "    # HINT: You can pass processed data samples and their ground truth values as parameters\n",
        "    folders = ['forest', 'glacier', 'mountain', 'sea'] \n",
        "    def __init__(self, root = '/content/data/data/', transform = None): # you are free to change parameters\n",
        "      self.root = root\n",
        "      self.transform = transform\n",
        "      folders = ['forest', 'glacier', 'mountain', 'sea'] \n",
        "      self.image_files =[]\n",
        "      for i in folders:\n",
        "        self.image_files.append(os.listdir(os.path.join(root,  i)))\n",
        "      # self.forest = image_files[0]\n",
        "      # self.glacier = image_files[1]\n",
        "      # self.mountain = image_files[2]\n",
        "      # self.sea = image_files[3]\n",
        "    '''This function should return sample count in the dataset'''\n",
        "    def __len__(self):\n",
        "      return np.array(self.image_files).size\n",
        "\n",
        "    '''This function should return a single sample and its ground truth value from the dataset corresponding to index parameter '''\n",
        "    def __getitem__(self, index):\n",
        "      labels = [0, 1, 2, 3]\n",
        "      if index <= 2499:\n",
        "        self.x = transforms.ToTensor()(Image.open(('/content/data/data/forest/'+self.image_files[0][index]), 'r'))\n",
        "        self.y = labels[0]\n",
        "      elif index <= (5000-1): \n",
        "        self.x = transforms.ToTensor()(Image.open(('/content/data/data/glacier/'+ self.image_files[1][index-2500]), 'r'))\n",
        "        self.y = labels[1]\n",
        "      elif index <= (7500-1): \n",
        "        self.x = transforms.ToTensor()(Image.open(('/content/data/data/mountain/'+self.image_files[2][index-5000]), 'r'))\n",
        "        self.y = labels[2]\n",
        "      else: \n",
        "        self.x = transforms.ToTensor()(Image.open(('/content/data/data/sea/'+self.image_files[3][index-7500]), 'r'))\n",
        "        self.y = labels[3]\n",
        "      if self.transform is not None:\n",
        "        self.x = F.normalize(self.x)\n",
        "\n",
        "      return self.x,self.y\n"
      ]
    },
    {
      "cell_type": "code",
      "execution_count": null,
      "metadata": {
        "id": "vE3b0p2IWrdo"
      },
      "outputs": [],
      "source": [
        "def get_dataset(root):\n",
        "    # TODO: \n",
        "    # Read dataset files, # Normalize Data  Lp Normalization \n",
        "    dataset = SceneDataset(root, transform = 1)\n",
        "    data_set = dataset\n",
        "    # Construct training, validation and test sets\n",
        "    train_dataset, val_dataset, test_dataset = torch.utils.data.random_split(dataset, [7000, 2000, 1000])\n",
        "   \n",
        "\n",
        "    # for i in range(len(dataset)):\n",
        "    #   data_set.append(torch.nn.functional.normalize(dataset[i][0]))\n",
        "    #   data_set[i].append(dataset[i][1])\n",
        "    # for i in range(len(train_dataset)):\n",
        "    #   torch.nn.functional.normalize(train_dataset[i][0])\n",
        "    # for i in range(len(val_dataset)):\n",
        "    #   torch.nn.functional.normalize(val_dataset[i][0])\n",
        "    # for i in range(len(test_dataset)):\n",
        "    #   torch.nn.functional.normalize(test_dataset[i][0])\n",
        "\n",
        "    return train_dataset, val_dataset, test_dataset"
      ]
    },
    {
      "cell_type": "code",
      "execution_count": null,
      "metadata": {
        "id": "wG0DsptG91C0"
      },
      "outputs": [],
      "source": [
        ""
      ]
    },
    {
      "cell_type": "code",
      "execution_count": null,
      "metadata": {
        "id": "KG1ruyjDiwro"
      },
      "outputs": [],
      "source": [
        "# train_set = DataLoader(train_dataset, batch_size=10, shuffle=False)\n",
        "\n",
        "# for epoch in range(1):\n",
        "#    print(\"\\n==============================\\n\")\n",
        "#    print(\"Epoch = \" + str(epoch))\n",
        "#    for (batch_idx, batch) in enumerate(train_set):\n",
        "#      print(\"\\nBatch = \" + str(batch_idx))\n",
        "#     # X = batch[0]  # [3,7]\n",
        "#      #Y = batch[1]   # [3]\n",
        "#      print(batch[0].shape)\n",
        "#      #print(Y)"
      ]
    },
    {
      "cell_type": "code",
      "execution_count": null,
      "metadata": {
        "id": "KXp6Tn_Ls4rN"
      },
      "outputs": [],
      "source": [
        ""
      ]
    },
    {
      "cell_type": "markdown",
      "metadata": {
        "id": "wFVQay-2Z7Ix"
      },
      "source": [
        "###Model Implementation [7 pts]\n",
        "\n",
        "Now implement your CNN. ConvNet class will represent your convolutional neural network. Implement 3 layers of convolution: \n",
        "<ul>\n",
        "    <li>(1) 4 filters with size of 3 x 3 with stride 1 and padding 1, (2) ReLU </li>\n",
        "    <li>(3) 8 filters with size of 3 x 3 with stride 1 and padding 1, (4) ReLU and (5) MaxPool 2 x 2 </li>\n",
        "    <li>(6) 16 filters with size of 3 x 3 with stride 1 and padding 1, (7) ReLU and (8) MaxPool 2 x 2 </li> \n",
        "</ul>\n",
        "\n",
        "As the classifier layer, you need to add only one linear layer at the end of the network. You need to choose the appropriate input and output neuron sizes and the activation function for the dense layer."
      ]
    },
    {
      "cell_type": "code",
      "execution_count": null,
      "metadata": {
        "id": "lNnoeEy-aGA3"
      },
      "outputs": [],
      "source": [
        "class ConvNet(nn.Module):\n",
        "    '''Define your neural network'''\n",
        "    def __init__(self, **kwargs): # you can add any additional parameters you want \n",
        "      super(ConvNet, self).__init__()\n",
        "      self.conv_layer1 = nn.Conv2d(in_channels = 3, out_channels = 4, kernel_size =(3,3), stride = 1, padding =1)\n",
        "      self.conv_layer2 = nn.Conv2d(in_channels = 4, out_channels = 8, kernel_size =(3,3), stride = 1, padding =1)\n",
        "      self.conv_layer3 = nn.Conv2d(in_channels = 8, out_channels = 16, kernel_size =(3,3), stride = 1, padding =1)\n",
        "      \n",
        "      self.relu = nn.ReLU(inplace =True)\n",
        "      self.max_pool = nn.MaxPool2d(2)\n",
        "      self.linear_layer = nn.Linear(7744, 4)\n",
        "\n",
        "    # TODO:\n",
        "    # You should create your neural network here\n",
        "\n",
        "     \n",
        "    def forward(self, X): # you can add any additional parameters you want\n",
        "    # TODO:\n",
        "    # Forward propagation implementation should be here\n",
        "\n",
        "      layer = self.conv_layer1(X)\n",
        "      layer = self.relu(layer)\n",
        "      layer = self.conv_layer2(layer)\n",
        "      layer = self.relu(layer)\n",
        "      layer = self.max_pool(layer)\n",
        "      layer = self.conv_layer3(layer)\n",
        "      layer = self.relu(layer)\n",
        "      layer = self.max_pool(layer)\n",
        "      layer = layer.reshape(layer.size(0), -1)\n",
        "      layer = self.linear_layer(layer)\n",
        "      layer = layer.log_softmax(dim = 1)\n",
        "      return layer"
      ]
    },
    {
      "cell_type": "markdown",
      "metadata": {
        "id": "s4HT9fvm_jgX"
      },
      "source": [
        "###Stochastic Gradient Descent [25 pts.]"
      ]
    },
    {
      "cell_type": "markdown",
      "metadata": {
        "id": "ZJO7J4sf7YGZ"
      },
      "source": [
        "####Training with SGD [15 pts.]\n",
        "\n",
        "Train your model up to 300 epochs with properly processed inputs, i.e. call your \"get_dataset\" function. Use SGD as your optimizer. Tune your learning rate, weight decay. Do not add additional parameters to SGD. Save your best model as \"best_cnn_sgd.pth\". The best model should be selected based on validation dataset. You could use any measurement and/or metric to decide on the best model. However, you must explain your reasoning in your choice.\n",
        "\n",
        "During training, you need to plot two figures:\n",
        "1. training loss and validation loss vs. epoch\n",
        "2. training accuracy and validation accuracy vs. epoch <br>\n",
        "\n",
        "Name your axes and plots properly."
      ]
    },
    {
      "cell_type": "code",
      "source": [
        " #HINT: note that your training time should not take more than 2 hours.\n",
        "train_dataset, val_dataset, test_dataset = get_dataset('/content/data/data')"
      ],
      "metadata": {
        "id": "GAiCmSRs-8F3"
      },
      "execution_count": null,
      "outputs": []
    },
    {
      "cell_type": "code",
      "execution_count": null,
      "metadata": {
        "id": "5nbYlDpGvv2d"
      },
      "outputs": [],
      "source": [
        "\n",
        "# TODO:\n",
        "# Pick your hyper parameters\n",
        "epoch = 30\n",
        "training_batch = 32\n",
        "test_batch = 32\n",
        "learning_rate = 0.1 # try learning rate from the interval [1e-1, 1e-4]\n",
        "\n",
        "#use_gpu = torch.cuda.is_available()\n",
        "if torch.cuda.is_available():\n",
        "  use_gpu = torch.device('cuda')\n",
        "else:\n",
        "  use_gpu = torch.device('cpu')\n",
        "\n",
        " #HINT: note that your training time should not take more than 2 hours.\n",
        "train_dataset, val_dataset, test_dataset = get_dataset('/content/data/data')\n",
        "# Create train dataset loader\n",
        "train_loader = DataLoader(train_dataset, batch_size = training_batch, shuffle = True)\n",
        "# Create validation dataset loader\n",
        "val_loader = DataLoader(val_dataset, batch_size = training_batch, shuffle = True)\n",
        "# Create test dataset loader\n",
        "test_loader = DataLoader(test_dataset, batch_size = test_batch, shuffle = True)\n",
        "\n",
        "# initialize your network\n",
        "model = ConvNet().to(use_gpu)\n",
        "# define your loss function\n",
        "loss_func = nn.CrossEntropyLoss()  \n",
        "optimizer = torch.optim.SGD(model.parameters(), lr=learning_rate, weight_decay=5e-04) # you can play with weight_decay as well but do not add additional parameters"
      ]
    },
    {
      "cell_type": "code",
      "execution_count": null,
      "metadata": {
        "colab": {
          "base_uri": "https://localhost:8080/",
          "height": 1000
        },
        "id": "S4VU9L1jCNCC",
        "outputId": "0fa82a45-a224-48b3-f470-951934d5efbd"
      },
      "outputs": [
        {
          "output_type": "stream",
          "name": "stdout",
          "text": [
            "epoch : 1\n",
            "Training loss : 1.38640 | Training accuracy =  25.7286\n",
            "Validataion Loss : 1.38414 | Validation Accuracy 24.8000\n",
            "epoch : 2\n",
            "Training loss : 1.38189 | Training accuracy =  27.8143\n",
            "Validataion Loss : 1.38664 | Validation Accuracy 24.8000\n",
            "epoch : 3\n",
            "Training loss : 1.38702 | Training accuracy =  24.9714\n",
            "Validataion Loss : 1.38709 | Validation Accuracy 23.8500\n",
            "epoch : 4\n",
            "Training loss : 1.38665 | Training accuracy =  25.6857\n",
            "Validataion Loss : 1.38588 | Validation Accuracy 25.8500\n",
            "epoch : 5\n",
            "Training loss : 1.38713 | Training accuracy =  25.2714\n",
            "Validataion Loss : 1.38690 | Validation Accuracy 24.8000\n",
            "epoch : 6\n",
            "Training loss : 1.38658 | Training accuracy =  24.8857\n",
            "Validataion Loss : 1.38569 | Validation Accuracy 28.9000\n",
            "epoch : 7\n",
            "Training loss : 1.37880 | Training accuracy =  27.0429\n",
            "Validataion Loss : 1.38138 | Validation Accuracy 26.3500\n",
            "epoch : 8\n",
            "Training loss : 1.36613 | Training accuracy =  29.8571\n",
            "Validataion Loss : 1.38541 | Validation Accuracy 24.4500\n",
            "epoch : 9\n",
            "Training loss : 1.33328 | Training accuracy =  35.5857\n",
            "Validataion Loss : 1.26341 | Validation Accuracy 43.5500\n",
            "epoch : 10\n",
            "Training loss : 1.34096 | Training accuracy =  32.3286\n",
            "Validataion Loss : 1.38720 | Validation Accuracy 23.9500\n",
            "epoch : 11\n",
            "Training loss : 1.38619 | Training accuracy =  26.0857\n",
            "Validataion Loss : 1.38504 | Validation Accuracy 26.3500\n",
            "epoch : 12\n",
            "Training loss : 1.05335 | Training accuracy =  51.3714\n",
            "Validataion Loss : 0.89732 | Validation Accuracy 59.5500\n",
            "epoch : 13\n",
            "Training loss : 0.88538 | Training accuracy =  61.2429\n",
            "Validataion Loss : 1.68636 | Validation Accuracy 38.5500\n",
            "epoch : 14\n",
            "Training loss : 0.89080 | Training accuracy =  60.5000\n",
            "Validataion Loss : 0.82940 | Validation Accuracy 64.6000\n",
            "epoch : 15\n",
            "Training loss : 0.77703 | Training accuracy =  66.8714\n",
            "Validataion Loss : 0.79600 | Validation Accuracy 66.3500\n",
            "epoch : 16\n",
            "Training loss : 0.73228 | Training accuracy =  69.5857\n",
            "Validataion Loss : 0.78901 | Validation Accuracy 68.1500\n",
            "epoch : 17\n",
            "Training loss : 0.69828 | Training accuracy =  70.7143\n",
            "Validataion Loss : 0.75329 | Validation Accuracy 70.0500\n",
            "epoch : 18\n",
            "Training loss : 0.65566 | Training accuracy =  72.8429\n",
            "Validataion Loss : 0.75968 | Validation Accuracy 70.7500\n",
            "epoch : 19\n",
            "Training loss : 0.62030 | Training accuracy =  74.7857\n",
            "Validataion Loss : 0.84512 | Validation Accuracy 67.7500\n",
            "epoch : 20\n",
            "Training loss : 0.58868 | Training accuracy =  75.7857\n",
            "Validataion Loss : 0.76735 | Validation Accuracy 71.8500\n",
            "epoch : 21\n",
            "Training loss : 0.56537 | Training accuracy =  77.4000\n",
            "Validataion Loss : 0.79470 | Validation Accuracy 70.1000\n",
            "epoch : 22\n",
            "Training loss : 0.54170 | Training accuracy =  78.5571\n",
            "Validataion Loss : 0.86055 | Validation Accuracy 70.1500\n",
            "epoch : 23\n",
            "Training loss : 0.53834 | Training accuracy =  78.3429\n",
            "Validataion Loss : 0.84263 | Validation Accuracy 69.7000\n",
            "epoch : 24\n",
            "Training loss : 0.50605 | Training accuracy =  79.8571\n",
            "Validataion Loss : 0.88123 | Validation Accuracy 68.0500\n",
            "epoch : 25\n",
            "Training loss : 0.49666 | Training accuracy =  80.4571\n",
            "Validataion Loss : 1.04418 | Validation Accuracy 67.4500\n",
            "epoch : 26\n",
            "Training loss : 0.48540 | Training accuracy =  80.5714\n",
            "Validataion Loss : 1.12372 | Validation Accuracy 65.0000\n",
            "epoch : 27\n",
            "Training loss : 0.45997 | Training accuracy =  81.7571\n",
            "Validataion Loss : 1.18098 | Validation Accuracy 63.3500\n",
            "epoch : 28\n",
            "Training loss : 0.45090 | Training accuracy =  82.3429\n",
            "Validataion Loss : 0.96586 | Validation Accuracy 69.6500\n",
            "epoch : 29\n",
            "Training loss : 0.46367 | Training accuracy =  81.7000\n",
            "Validataion Loss : 0.88812 | Validation Accuracy 69.0000\n",
            "epoch : 30\n",
            "Training loss : 0.42638 | Training accuracy =  83.0286\n",
            "Validataion Loss : 1.06768 | Validation Accuracy 70.2500\n"
          ]
        },
        {
          "output_type": "display_data",
          "data": {
            "image/png": "[encoded data removed]",
            "text/plain": [
              "<Figure size 432x288 with 1 Axes>"
            ]
          },
          "metadata": {
            "needs_background": "light"
          }
        },
        {
          "output_type": "stream",
          "name": "stdout",
          "text": [
            "---------------------------------------------------------\n"
          ]
        },
        {
          "output_type": "display_data",
          "data": {
            "image/png": "[encoded data removed]",
            "text/plain": [
              "<Figure size 432x288 with 1 Axes>"
            ]
          },
          "metadata": {
            "needs_background": "light"
          }
        }
      ],
      "source": [
        "# Training and Validation\n",
        "max_accuracy = 0\n",
        "training_loss = []\n",
        "val_loss=[]\n",
        "training_accuracy=[]\n",
        "val_accuracy=[]\n",
        "use_gpu = torch.cuda.is_available()\n",
        "# start training\n",
        "for i in range(epoch):\n",
        "  model=model.train()\n",
        "\n",
        "  predict = []\n",
        "  losses =[]\n",
        "  correct =0\n",
        "  total = 0\n",
        "  for n, (x, y) in enumerate(train_loader): #    iterate over training batches\n",
        "    if use_gpu:\n",
        "      x = x.cuda()\n",
        "      y = y.cuda()\n",
        "    output = model(x.float())\n",
        "    loss = loss_func(output, y)\n",
        "    optimizer.zero_grad()\n",
        "    loss.backward()\n",
        "    optimizer.step()\n",
        "    losses.append(loss.item())\n",
        "  \n",
        "    _, prediction = torch.max(output.data, 1)\n",
        "    total += y.size(0)\n",
        "    correct += (prediction == y).sum().item()\n",
        "\n",
        "  training_loss.append(np.mean(losses)) # Accumulating the training loss\n",
        "  acc = 100.*correct/total\n",
        "  training_accuracy.append(acc)\n",
        "\n",
        "\n",
        "  # Validate the model and print the accuracy\n",
        "  val_correct = 0\n",
        "  val_total = 0\n",
        "  predsval=[]\n",
        "  valid_loss = []\n",
        "  model = model.eval()\n",
        "  with torch.no_grad():\n",
        "    for n, (x, y) in enumerate(val_loader):\n",
        "      if use_gpu:  # If GPU is available use GPU\n",
        "        x = x.cuda() \n",
        "        y = y.cuda()\n",
        "      output = model(x.float())   \n",
        "      loss1  = loss_func(output, y)\n",
        "      valid_loss.append(loss1.item())\n",
        "\n",
        "      _, prediction = torch.max(output.data, 1)\n",
        "      \n",
        "      val_correct += (prediction == y).sum().item()\n",
        "      val_total += y.size(0)\n",
        "   \n",
        "    val_loss.append(np.mean(valid_loss))\n",
        "    val_acc = 100.*val_correct/val_total\n",
        "    val_accuracy.append(val_acc)     \n",
        "\n",
        "  if (val_acc) > max_accuracy:\n",
        "    torch.save(model, 'best_cnn_sgd.pth') # Change file\n",
        "    max_accuracy = val_acc\n",
        "\n",
        "  print('epoch :', (i + 1)) \n",
        "  print('Training loss :' ,  format(np.mean(losses),\".5f\"), '| Training accuracy = ',format(acc,\".4f\")) \n",
        "  print('Validataion Loss :',format(np.mean(valid_loss),\".5f\"), '| Validation Accuracy',format(val_acc,\".4f\"))\n",
        "\n",
        "# Plot Loss vs Epoch \n",
        "plt.plot(val_loss)\n",
        "plt.plot(training_loss)\n",
        "plt.xlabel('Epoch')\n",
        "plt.ylabel('Loss')\n",
        "plt.legend(['Validation', 'Training'])\n",
        "plt.title('Training & Validation ( Loss vs Epoch Plot) ')\n",
        "plt.show()\n",
        "\n",
        "print('---------------------------------------------------------')\n",
        "\n",
        "# Plot Accuracies vs Epoch \n",
        "plt.plot(val_accuracy)\n",
        "plt.plot(training_accuracy)\n",
        "plt.xlabel('Epoch')\n",
        "plt.ylabel('Accuracy')\n",
        "plt.legend(['Validation', 'Training'])\n",
        "plt.title('Training & Validation ( Accuracy vs Epoch Plot) ')\n",
        "plt.show()\n",
        "\n"
      ]
    },
    {
      "cell_type": "code",
      "source": [
        "# Model with maximum accuracy was saved"
      ],
      "metadata": {
        "id": "H-GXb2lA62ah"
      },
      "execution_count": null,
      "outputs": []
    },
    {
      "cell_type": "markdown",
      "metadata": {
        "id": "bGlkTe9e-VLO"
      },
      "source": [
        "####Test with SGD [10 pts.]\n",
        "\n",
        "Report the following for your best model on your test set which has not been seen by the model yet.\n",
        "1. A heatmap for confusion matrix\n",
        "2. Accuracy\n",
        "3. Macro Precision\n",
        "4. Macro Recall\n",
        "5. F1 Score"
      ]
    },
    {
      "cell_type": "code",
      "execution_count": null,
      "metadata": {
        "id": "LNc_qjAECN9V",
        "colab": {
          "base_uri": "https://localhost:8080/",
          "height": 383
        },
        "outputId": "d745fabb-94c8-4a15-8de2-25648c353aeb"
      },
      "outputs": [
        {
          "output_type": "stream",
          "name": "stdout",
          "text": [
            "Accuracy =  69.80 %\n",
            "Macro Precision =  0.702\n",
            "Macro Recall =  0.696\n",
            "Macro F1 Score =  0.697\n",
            "Mean Loss:  0.8043\n"
          ]
        },
        {
          "output_type": "display_data",
          "data": {
            "image/png": "[encoded data removed]",
            "text/plain": [
              "<Figure size 432x288 with 2 Axes>"
            ]
          },
          "metadata": {
            "needs_background": "light"
          }
        }
      ],
      "source": [
        "# Test CNN\n",
        "# load best model\n",
        "best_path = '/content/best_cnn_sgd.pth'\n",
        "model = torch.load(best_path)\n",
        "\n",
        "# evaluate on test set\n",
        "\n",
        "test_correct = 0\n",
        "test_total = 0\n",
        "test_accuracy = []\n",
        "test_pred =[]\n",
        "org_labels = []\n",
        "loss_test = []\n",
        "model = model.eval()\n",
        "with torch.no_grad():\n",
        "#   iterate over test batches\n",
        "  for n, (x, y) in enumerate(test_loader):\n",
        "    losses =[]\n",
        "    if use_gpu:  # If GPU is available use GPU\n",
        "      x = x.cuda() \n",
        "      y = y.cuda()\n",
        "    output = model(x.float())   \n",
        "    _, prediction = torch.max(output.data, 1)\n",
        "    loss2  = loss_func(output, y)\n",
        "    losses.append(loss2.item())\n",
        "    test_correct += (prediction == y).sum().item()\n",
        "    test_total += y.size(0)\n",
        "    loss_test.append(np.mean(losses))\n",
        "    prediction = prediction.cpu().numpy()\n",
        "    y = y.cpu().numpy()\n",
        "    k = 0\n",
        "    for n in prediction:\n",
        "      test_pred.append(n)\n",
        "      org_labels.append(y[k])\n",
        "      k = k + 1\n",
        "#   calculate accuracy\n",
        "print('Accuracy = ', format(test_correct/test_total*100,\".2f\"), '%' )\n",
        "#   calculate precision\n",
        "precision = precision_score(org_labels, test_pred, average='macro')\n",
        "print('Macro Precision = ', format(precision,\".3f\"))\n",
        "#   calculate recall\n",
        "recall = recall_score(org_labels, test_pred, average='macro')\n",
        "print('Macro Recall = ', format(recall,\".3f\"))\n",
        "#   calculate F1 score\n",
        "f1 = f1_score(org_labels, test_pred, average='macro')\n",
        "print('Macro F1 Score = ', format(f1,\".3f\"))\n",
        "# Mean Loss\n",
        "mean_loss = np.mean(loss_test)\n",
        "print('Mean Loss: ', format(mean_loss, \".4f\"))\n",
        "\n",
        "#   get confusion matrix\n",
        "conf_matrix = confusion_matrix(org_labels, test_pred)\n",
        "\n",
        "labels = [0, 1, 2, 3]\n",
        "\n",
        "\n",
        "# plot confusion matrix\n",
        "fig, ax = plt.subplots()\n",
        "im = ax.imshow(conf_matrix)\n",
        "ax.figure.colorbar(im, ax=ax)\n",
        "# We want to show all ticks...\n",
        "ax.set_xticks(np.arange(4))\n",
        "ax.set_yticks(np.arange(4))\n",
        "ax.set_title(' Confusion Matrix')\n",
        "ax.set_xticklabels(labels)\n",
        "ax.set_yticklabels(labels)\n",
        "ax.set_ylabel('True Labels')\n",
        "ax.set_xlabel('Predicted Labels')\n",
        "for y in range(conf_matrix.shape[0]):\n",
        "    for x in range(conf_matrix.shape[1]):\n",
        "        ax.text(x, y, format(conf_matrix[y, x], 'd'))\n",
        "\n",
        "\n",
        "fig.tight_layout()\n",
        "plt.show()"
      ]
    },
    {
      "cell_type": "markdown",
      "metadata": {
        "id": "N3L2zjEN_tZf"
      },
      "source": [
        "###Adam Optimizer [25 pts.]\n",
        "\n",
        "Adam is an adaptive learning rate optimization algorithm that has been designed specifically for training deep neural networks. It was presented by Diederik Kingma from OpenAI and Jimmy Ba from the University of Toronto in their 2015 ICLR paper (poster) titled “Adam: A Method for Stochastic Optimization“.\n",
        "\n",
        "Nowadays, most of machine learning frameworks, including tensorflow, Pytorch, and Keras, choose Adam as the default optimizer. In this question, you will experiment with it and try to understand why it replaced SGD as the default optimizer."
      ]
    },
    {
      "cell_type": "markdown",
      "metadata": {
        "id": "jOQ75RHP-Fdn"
      },
      "source": [
        "####Training with ADAM [15 pts.]\n",
        "\n",
        "Train your model up to 300 epochs with properly processed inputs, i.e. call your \"get_dataset\". This time use Adam Optimizer as your optimizer. Tune your learning rate, weight decay. Save your best model as \"best_cnn_adam.pth\". The best model should be selected based on validation dataset. You could use any measurement and/or metric to decide on the best model for each network. However, you must explain your reasoning in your choice.\n",
        "\n",
        "During training, you need to plot:\n",
        "1. training loss and validation loss vs. epoch\n",
        "2. training accuracy and validation accuracy vs. epoch <br>\n",
        "\n",
        "Name your axes and plots properly."
      ]
    },
    {
      "cell_type": "code",
      "source": [
        "# TODO:\n",
        "# Pick your hyper parameters\n",
        "epoch = 30\n",
        "training_batch = 32\n",
        "test_batch = 32\n",
        "learning_rate = 0.001 # try learning rate from the interval [1e-1, 1e-4]\n",
        "\n",
        "#use_gpu = torch.cuda.is_available()\n",
        "if torch.cuda.is_available():\n",
        "  use_gpu = torch.device('cuda')\n",
        "else:\n",
        "  use_gpu = torch.device('cpu')\n",
        "\n",
        " #HINT: note that your training time should not take more than 2 hours.\n",
        "train_dataset, val_dataset, test_dataset = get_dataset('/content/data/data')\n",
        "# Create train dataset loader\n",
        "train_loader = DataLoader(train_dataset, batch_size = training_batch, shuffle = True)\n",
        "# Create validation dataset loader\n",
        "val_loader = DataLoader(val_dataset, batch_size = training_batch, shuffle = True)\n",
        "# Create test dataset loader\n",
        "test_loader = DataLoader(test_dataset, batch_size = test_batch, shuffle = True)\n",
        "\n",
        "# initialize your network\n",
        "model = ConvNet().to(use_gpu)\n",
        "# define your loss function\n",
        "loss_func = nn.CrossEntropyLoss()   \n",
        "optimizer = torch.optim.Adam(model.parameters(), lr=learning_rate, weight_decay=5e-04) # you can play with  weight_decay as well\n",
        "    "
      ],
      "metadata": {
        "id": "aMtf6hdvf4ZR"
      },
      "execution_count": null,
      "outputs": []
    },
    {
      "cell_type": "code",
      "execution_count": null,
      "metadata": {
        "colab": {
          "base_uri": "https://localhost:8080/"
        },
        "outputId": "b96c6721-feb6-4ba0-b3b3-6716d88cb8c8",
        "id": "bQP90hpZgg2B"
      },
      "outputs": [
        {
          "output_type": "stream",
          "name": "stdout",
          "text": [
            "epoch : 1\n",
            "Training loss : 1.13543 | Training accuracy =  42.4286\n",
            "Validataion Loss : 0.77520 | Validation Accuracy 67.8500\n",
            "epoch : 2\n",
            "Training loss : 0.76689 | Training accuracy =  66.9286\n",
            "Validataion Loss : 0.71671 | Validation Accuracy 69.4500\n",
            "epoch : 3\n",
            "Training loss : 0.73916 | Training accuracy =  68.2429\n",
            "Validataion Loss : 0.72372 | Validation Accuracy 69.0500\n",
            "epoch : 4\n",
            "Training loss : 0.72187 | Training accuracy =  68.9143\n",
            "Validataion Loss : 0.75080 | Validation Accuracy 66.7000\n",
            "epoch : 5\n",
            "Training loss : 0.70973 | Training accuracy =  69.8286\n",
            "Validataion Loss : 0.68761 | Validation Accuracy 70.5000\n",
            "epoch : 6\n",
            "Training loss : 0.69670 | Training accuracy =  70.4429\n",
            "Validataion Loss : 0.69094 | Validation Accuracy 71.6000\n",
            "epoch : 7\n",
            "Training loss : 0.68839 | Training accuracy =  71.2429\n",
            "Validataion Loss : 0.66935 | Validation Accuracy 71.4000\n",
            "epoch : 8\n",
            "Training loss : 0.67802 | Training accuracy =  71.4000\n",
            "Validataion Loss : 0.66241 | Validation Accuracy 72.1500\n",
            "epoch : 9\n",
            "Training loss : 0.66444 | Training accuracy =  72.1000\n",
            "Validataion Loss : 0.67584 | Validation Accuracy 72.6000\n",
            "epoch : 10\n",
            "Training loss : 0.65338 | Training accuracy =  72.3714\n",
            "Validataion Loss : 0.65869 | Validation Accuracy 71.4500\n"
          ]
        }
      ],
      "source": [
        "# Training and Validation\n",
        "max_accuracy = 0\n",
        "training_loss = []\n",
        "val_loss=[]\n",
        "training_accuracy=[]\n",
        "val_accuracy=[]\n",
        "use_gpu = torch.cuda.is_available()\n",
        "# start training\n",
        "for i in range(epoch):\n",
        "  model=model.train()\n",
        "\n",
        "  predict = []\n",
        "  losses =[]\n",
        "  correct =0\n",
        "  total = 0\n",
        "  for n, (x, y) in enumerate(train_loader): #    iterate over training batches\n",
        "    if use_gpu:\n",
        "      x = x.cuda()\n",
        "      y = y.cuda()\n",
        "    output = model(x.float())\n",
        "    loss = loss_func(output, y)\n",
        "    optimizer.zero_grad()\n",
        "    loss.backward()\n",
        "    optimizer.step()\n",
        "    losses.append(loss.item())\n",
        "  \n",
        "    _, prediction = torch.max(output.data, 1)\n",
        "    total += y.size(0)\n",
        "    correct += (prediction == y).sum().item()\n",
        "\n",
        "  training_loss.append(np.mean(losses)) # Accumulating the training loss\n",
        "  acc = 100.*correct/total\n",
        "  training_accuracy.append(acc)\n",
        "\n",
        "\n",
        "  # Validate the model and print the accuracy\n",
        "  val_correct = 0\n",
        "  val_total = 0\n",
        "  predsval=[]\n",
        "  valid_loss = []\n",
        "  model = model.eval()\n",
        "  with torch.no_grad():\n",
        "    for n, (x, y) in enumerate(val_loader):\n",
        "      if use_gpu:  # If GPU is available use GPU\n",
        "        x = x.cuda() \n",
        "        y = y.cuda()\n",
        "      output = model(x.float())   \n",
        "      loss1  = loss_func(output, y)\n",
        "      valid_loss.append(loss1.item())\n",
        "\n",
        "      _, prediction = torch.max(output.data, 1)\n",
        "      \n",
        "      val_correct += (prediction == y).sum().item()\n",
        "      val_total += y.size(0)\n",
        "   \n",
        "    val_loss.append(np.mean(valid_loss))\n",
        "    val_acc = 100.*val_correct/val_total\n",
        "    val_accuracy.append(val_acc)     \n",
        "\n",
        "  if (val_acc) > max_accuracy:\n",
        "    torch.save(model, 'best_cnn_adam.pth') # Change file\n",
        "    max_accuracy = val_acc\n",
        "\n",
        "  print('epoch :', (i + 1)) \n",
        "  print('Training loss :' ,  format(np.mean(losses),\".5f\"), '| Training accuracy = ',format(acc,\".4f\")) \n",
        "  print('Validataion Loss :',format(np.mean(valid_loss),\".5f\"), '| Validation Accuracy',format(val_acc,\".4f\"))\n",
        "\n",
        "# Plot Loss vs Epoch \n",
        "plt.plot(val_loss)\n",
        "plt.plot(training_loss)\n",
        "plt.xlabel('Epoch')\n",
        "plt.ylabel('Loss')\n",
        "plt.legend(['Validation', 'Training'])\n",
        "plt.title('Training & Validation ( Loss vs Epoch Plot) ')\n",
        "plt.show()\n",
        "\n",
        "print('---------------------------------------------------------')\n",
        "\n",
        "# Plot Accuracies vs Epoch \n",
        "plt.plot(val_accuracy)\n",
        "plt.plot(training_accuracy)\n",
        "plt.xlabel('Epoch')\n",
        "plt.ylabel('Accuracy')\n",
        "plt.legend(['Validation', 'Training'])\n",
        "plt.title('Training & Validation ( Accuracy vs Epoch Plot) ')\n",
        "plt.show()\n",
        "\n"
      ]
    },
    {
      "cell_type": "code",
      "source": [
        "#Adam Optimizer gives better accuracies"
      ],
      "metadata": {
        "id": "4ADuTWL17A3r"
      },
      "execution_count": null,
      "outputs": []
    },
    {
      "cell_type": "markdown",
      "metadata": {
        "id": "0iozVeXZAXiH"
      },
      "source": [
        "####Test with ADAM [10 pts.]\n",
        "\n",
        "Report the following for your best model on your test set which has not been seen by the model yet.\n",
        "1. A heatmap for confusion matrix\n",
        "2. Accuracy\n",
        "3. Macro Precision\n",
        "4. Macro Recall\n",
        "5. F1 Score\n",
        "\n",
        "Then, discuss figures that you have plotted in the previous section, your test results and algorithm complexity with maximum 200 words. Compare two **optimizers**. Which one is more preferable? Why?"
      ]
    },
    {
      "cell_type": "code",
      "execution_count": null,
      "metadata": {
        "id": "ixRvVzQrr9ky"
      },
      "outputs": [],
      "source": [
        "# Test CNN\n",
        "# load best model\n",
        "best_path = '/content/best_cnn_adam.pth'\n",
        "model = torch.load(best_path)\n",
        "\n",
        "# evaluate on test set\n",
        "\n",
        "test_correct = 0\n",
        "test_total = 0\n",
        "test_accuracy = []\n",
        "test_pred =[]\n",
        "org_labels = []\n",
        "loss_test = []\n",
        "model = model.eval()\n",
        "with torch.no_grad():\n",
        "#   iterate over test batches\n",
        "  for n, (x, y) in enumerate(test_loader):\n",
        "    losses =[]\n",
        "    if use_gpu:  # If GPU is available use GPU\n",
        "      x = x.cuda() \n",
        "      y = y.cuda()\n",
        "    output = model(x.float())   \n",
        "    _, prediction = torch.max(output.data, 1)\n",
        "    loss2  = loss_func(output, y)\n",
        "    losses.append(loss2.item())\n",
        "    test_correct += (prediction == y).sum().item()\n",
        "    test_total += y.size(0)\n",
        "    loss_test.append(np.mean(losses))\n",
        "    prediction = prediction.cpu().numpy()\n",
        "    y = y.cpu().numpy()\n",
        "    k = 0\n",
        "    for n in prediction:\n",
        "      test_pred.append(n)\n",
        "      org_labels.append(y[k])\n",
        "      k = k + 1\n",
        "#   calculate accuracy\n",
        "print('Accuracy = ', format(test_correct/test_total*100,\".2f\"), '%' )\n",
        "#   calculate precision\n",
        "precision = precision_score(org_labels, test_pred, average='macro')\n",
        "print('Macro Precision = ', format(precision,\".3f\"))\n",
        "#   calculate recall\n",
        "recall = recall_score(org_labels, test_pred, average='macro')\n",
        "print('Macro Recall = ', format(recall,\".3f\"))\n",
        "#   calculate F1 score\n",
        "f1 = f1_score(org_labels, test_pred, average='macro')\n",
        "print('Macro F1 Score = ', format(f1,\".3f\"))\n",
        "# Mean Loss\n",
        "mean_loss = np.mean(loss_test)\n",
        "print('Mean Loss: ', format(mean_loss, \".4f\"))\n",
        "\n",
        "#   get confusion matrix\n",
        "conf_matrix = confusion_matrix(org_labels, test_pred)\n",
        "\n",
        "labels = [0, 1, 2, 3]\n",
        "\n",
        "\n",
        "# plot confusion matrix\n",
        "fig, ax = plt.subplots()\n",
        "im = ax.imshow(conf_matrix)\n",
        "ax.figure.colorbar(im, ax=ax)\n",
        "# We want to show all ticks...\n",
        "ax.set_xticks(np.arange(4))\n",
        "ax.set_yticks(np.arange(4))\n",
        "ax.set_title(' Confusion Matrix')\n",
        "ax.set_xticklabels(labels)\n",
        "ax.set_yticklabels(labels)\n",
        "ax.set_ylabel('True Labels')\n",
        "ax.set_xlabel('Predicted Labels')\n",
        "for y in range(conf_matrix.shape[0]):\n",
        "    for x in range(conf_matrix.shape[1]):\n",
        "        ax.text(x, y, format(conf_matrix[y, x], 'd'))\n",
        "\n",
        "\n",
        "fig.tight_layout()\n",
        "plt.show()"
      ]
    },
    {
      "cell_type": "code",
      "source": [
        "\"\"\" Adam Optimizer is better as it gives us better results in terms of accuracy. THe Adam optimizer is also relatively faster than the SGD. Adam optimizer combines the AdaGrad and RMSProp algorithms to provide an excellent optimization algorithm \"\"\""
      ],
      "metadata": {
        "id": "TMzrCMvO7MfU"
      },
      "execution_count": null,
      "outputs": []
    },
    {
      "cell_type": "markdown",
      "metadata": {
        "id": "WUsvHO7JUvK8"
      },
      "source": [
        "###Transfer Learning [25 pts.]\n",
        "\n",
        "Instead of training CNNs from scratch, you can use pretrained models and apply them to your task. Transfer learning is a machine learning technique where you can reuse a pretrained machine learning model as a starting point for your own task. In this question, you will experiment with it and try to understand why it is used."
      ]
    },
    {
      "cell_type": "markdown",
      "metadata": {
        "id": "_SdoJEXuUvK9"
      },
      "source": [
        "####Training with Transfer Learning [15 pts.]\n",
        "\n",
        "Get pretrained ResNet18 model from torchvision.models and finetune your model up to 20 epochs with properly processed inputs, i.e. call your \"get_dataset\". This time use transfer learning. Tune your learning rate, weight decay. Save your best model as \"best_cnn_transfer.pth\". The best model should be selected based on validation dataset. You could use any measurement and/or metric to decide on the best model for each network. However, you must explain your reasoning in your choice.\n",
        "\n",
        "During training, you need to plot two figures:\n",
        "1. training loss and validation loss vs. epoch\n",
        "2. training accuracy and validation accuracy vs. epoch <br>\n",
        "\n",
        "Name your axes and plots properly."
      ]
    },
    {
      "cell_type": "code",
      "execution_count": null,
      "metadata": {
        "id": "q53czB57UvK9"
      },
      "outputs": [],
      "source": [
        "# HINT: note that your training time should not take more than 2 hours.\n",
        "\n",
        "# TODO:\n",
        "# Pick your hyper parameters\n",
        "max_epoch = 20\n",
        "train_batch = 32\n",
        "test_batch = 32\n",
        "learning_rate = 0.001# try learning rate from the interval [1e-1, 1e-4]\n",
        "\n",
        "#use_gpu = torch.cuda.is_available()\n",
        "if torch.cuda.is_available():\n",
        "  use_gpu = torch.device('cuda:0')\n",
        "else:\n",
        "  use_gpu = torch.device('cpu')\n",
        "\n",
        "#HINT: note that your training time should not take more than 2 hours.\n",
        "train_dataset, val_dataset, test_dataset = get_dataset('/content/data/data')\n",
        "# Create train dataset loader\n",
        "train_loader = DataLoader(train_dataset, batch_size = training_batch, shuffle = True)\n",
        "# Create validation dataset loader\n",
        "val_loader = DataLoader(val_dataset, batch_size = training_batch, shuffle = True)\n",
        "# Create test dataset loader\n",
        "test_loader = DataLoader(test_dataset, batch_size = test_batch, shuffle = True)\n",
        "\n",
        "\n",
        "\n",
        "# initialize your network\n",
        "model = models.resnet18(pretrained=True)\n",
        "num_features = model.fc.in_features\n",
        "\n",
        "for i in model.parameters():\n",
        "  i.requires_grad = False \n",
        "\n",
        "fc = nn.Sequential( \n",
        "        nn.Linear(512, 4),\n",
        "        nn.LogSoftmax(dim=1))\n",
        "\n",
        "\n",
        "model.fc = fc\n",
        "model = model.to(use_gpu)\n",
        "\n",
        "# define your loss function\n",
        "loss_func = nn.CrossEntropyLoss()\n",
        "optimizer = torch.optim.SGD(model.parameters(), lr = learning_rate, weight_decay = 5e-04) # you can play with momentum and weight_decay parameters as well\n",
        "    "
      ]
    },
    {
      "cell_type": "code",
      "source": [
        "# Training and Validation\n",
        "max_accuracy = 0\n",
        "training_loss = []\n",
        "val_loss=[]\n",
        "training_accuracy=[]\n",
        "val_accuracy=[]\n",
        "\n",
        "use_gpu = torch.cuda.is_available()\n",
        "# start training\n",
        "for i in range(epoch):\n",
        "  model=model.train()\n",
        "\n",
        "  predict = []\n",
        "  losses =[]\n",
        "  correct =0\n",
        "  total = 0\n",
        "  for n, (x, y) in enumerate(train_loader): #    iterate over training batches\n",
        "    if use_gpu:\n",
        "      y = y.cuda()\n",
        "      x = x.cuda()\n",
        "    output = model(x.float())\n",
        "    loss = loss_func(output, y)\n",
        "    optimizer.zero_grad()\n",
        "    loss.backward()\n",
        "    optimizer.step()\n",
        "    losses.append(loss.item())\n",
        "  \n",
        "    _, prediction = torch.max(output.data, 1)\n",
        "    total += y.size(0)\n",
        "    correct += (prediction == y).sum().item()\n",
        "\n",
        "  training_loss.append(np.mean(losses)) # Accumulating the training loss\n",
        "  acc = 100.*correct/total\n",
        "  training_accuracy.append(acc)\n",
        "\n",
        "\n",
        "  # Validate the model and print the accuracy\n",
        "  val_correct = 0\n",
        "  val_total = 0\n",
        "  predsval=[]\n",
        "  valid_loss = []\n",
        "  model = model.eval()\n",
        "  with torch.no_grad():\n",
        "    for n, (x, y) in enumerate(val_loader):\n",
        "      if use_gpu:  # If GPU is available use GPU\n",
        "        x = x.cuda() \n",
        "        y = y.cuda()\n",
        "      output = model(x.float())   \n",
        "      loss1  = loss_func(output, y)\n",
        "      valid_loss.append(loss1.item())\n",
        "\n",
        "      _, prediction = torch.max(output.data, 1)\n",
        "      \n",
        "      val_correct += (prediction == y).sum().item()\n",
        "      val_total += y.size(0)\n",
        "   \n",
        "    val_loss.append(np.mean(valid_loss))\n",
        "    val_acc = 100.*val_correct/val_total\n",
        "    val_accuracy.append(val_acc)     \n",
        "\n",
        "  if (val_acc) > max_accuracy:\n",
        "    torch.save(model, \"best_cnn_transfer.pth\") # Change file\n",
        "    max_accuracy = val_acc\n",
        "\n",
        "  print('epoch :', (i + 1)) \n",
        "  print('Training loss :' ,  format(np.mean(losses),\".5f\"), '| Training accuracy = ',format(acc,\".4f\")) \n",
        "  print('Validataion Loss :',format(np.mean(valid_loss),\".5f\"), '| Validation Accuracy',format(val_acc,\".4f\"))\n",
        "\n",
        "# Plot Loss vs Epoch \n",
        "plt.plot(val_loss)\n",
        "plt.plot(training_loss)\n",
        "plt.xlabel('Epoch')\n",
        "plt.ylabel('Loss')\n",
        "plt.legend(['Validation', 'Training'])\n",
        "plt.title('Training & Validation ( Loss vs Epoch Plot) ')\n",
        "plt.show()\n",
        "\n",
        "print('---------------------------------------------------------')\n",
        "\n",
        "# Plot Accuracies vs Epoch \n",
        "plt.plot(val_accuracy)\n",
        "plt.plot(training_accuracy)\n",
        "plt.xlabel('Epoch')\n",
        "plt.ylabel('Accuracy')\n",
        "plt.legend(['Validation', 'Training'])\n",
        "plt.title('Training & Validation ( Accuracy vs Epoch Plot) ')\n",
        "plt.show()\n",
        "\n"
      ],
      "metadata": {
        "id": "VJKEipYZvxl5"
      },
      "execution_count": null,
      "outputs": []
    },
    {
      "cell_type": "markdown",
      "metadata": {
        "id": "wu9HNrNMUvK_"
      },
      "source": [
        "####Test for Transfer Learning [10 pts.]\n",
        "\n",
        "Report the following for your best model on your test set which has not been seen by the model yet.\n",
        "1. A heatmap for confusion matrix\n",
        "2. Accuracy\n",
        "3. Macro Precision\n",
        "4. Macro Recall\n",
        "5. F1 Score\n",
        "\n",
        "Then, discuss figures that you have plotted in the previous section, your test results and algorithm complexity with maximum 200 words. Explain the advantages of using transfer learning. Is it better to reuse a pretrained model instead of training a model from scratch? Why?"
      ]
    },
    {
      "cell_type": "code",
      "execution_count": null,
      "metadata": {
        "id": "2mUn9CdYUvLA"
      },
      "outputs": [],
      "source": [
        ""
      ]
    },
    {
      "cell_type": "code",
      "execution_count": null,
      "metadata": {
        "id": "wIB7FVkC1Gy6"
      },
      "outputs": [],
      "source": [
        "# Test CNN\n",
        "# load best model\n",
        "best_path = \"best_cnn_transfer.pth\"\n",
        "model = torch.load(best_path)\n",
        "\n",
        "# evaluate on test set\n",
        "\n",
        "test_correct = 0\n",
        "test_total = 0\n",
        "test_accuracy = []\n",
        "test_pred =[]\n",
        "org_labels = []\n",
        "loss_test = []\n",
        "model = model.eval()\n",
        "with torch.no_grad():\n",
        "#   iterate over test batches\n",
        "  for n, (x, y) in enumerate(test_loader):\n",
        "    losses =[]\n",
        "    if use_gpu:  # If GPU is available use GPU\n",
        "      x = x.cuda() \n",
        "      y = y.cuda()\n",
        "    output = model(x.float())   \n",
        "    _, prediction = torch.max(output.data, 1)\n",
        "    loss2  = loss_func(output, y)\n",
        "    losses.append(loss2.item())\n",
        "    test_correct += (prediction == y).sum().item()\n",
        "    test_total += y.size(0)\n",
        "    loss_test.append(np.mean(losses))\n",
        "    prediction = prediction.cpu().numpy()\n",
        "    y = y.cpu().numpy()\n",
        "    k = 0\n",
        "    for n in prediction:\n",
        "      test_pred.append(n)\n",
        "      org_labels.append(y[k])\n",
        "      k = k + 1\n",
        "#   calculate accuracy\n",
        "print('Accuracy = ', format(test_correct/test_total*100,\".2f\"), '%' )\n",
        "#   calculate precision\n",
        "precision = precision_score(org_labels, test_pred, average='macro')\n",
        "print('Macro Precision = ', format(precision,\".3f\"))\n",
        "#   calculate recall\n",
        "recall = recall_score(org_labels, test_pred, average='macro')\n",
        "print('Macro Recall = ', format(recall,\".3f\"))\n",
        "#   calculate F1 score\n",
        "f1 = f1_score(org_labels, test_pred, average='macro')\n",
        "print('Macro F1 Score = ', format(f1,\".3f\"))\n",
        "# Mean Loss\n",
        "mean_loss = np.mean(loss_test)\n",
        "print('Mean Loss: ', format(mean_loss, \".4f\"))\n",
        "\n",
        "#   get confusion matrix\n",
        "conf_matrix = confusion_matrix(org_labels, test_pred)\n",
        "\n",
        "labels = [0, 1, 2, 3]\n",
        "\n",
        "\n",
        "# plot confusion matrix\n",
        "fig, ax = plt.subplots()\n",
        "im = ax.imshow(conf_matrix)\n",
        "ax.figure.colorbar(im, ax=ax)\n",
        "# We want to show all ticks...\n",
        "ax.set_xticks(np.arange(4))\n",
        "ax.set_yticks(np.arange(4))\n",
        "ax.set_title(' Confusion Matrix')\n",
        "ax.set_xticklabels(labels)\n",
        "ax.set_yticklabels(labels)\n",
        "ax.set_ylabel('True Labels')\n",
        "ax.set_xlabel('Predicted Labels')\n",
        "for y in range(conf_matrix.shape[0]):\n",
        "    for x in range(conf_matrix.shape[1]):\n",
        "        ax.text(x, y, format(conf_matrix[y, x], 'd'))\n",
        "\n",
        "\n",
        "fig.tight_layout()\n",
        "plt.show()"
      ]
    },
    {
      "cell_type": "code",
      "execution_count": null,
      "metadata": {
        "id": "QF9y0N6jUvLC"
      },
      "outputs": [],
      "source": [
        "# Using pretrained model makes our life easier. Lesser time and resources are used. THe accuracy of pretrained model is also the highest."
      ]
    }
  ],
  "metadata": {
    "accelerator": "GPU",
    "colab": {
      "collapsed_sections": [],
      "name": "Copy of cs464_fall21_hw3.ipynb",
      "provenance": [],
      "include_colab_link": true
    },
    "kernelspec": {
      "display_name": "bag-prediction",
      "language": "python",
      "name": "bag-prediction"
    },
    "language_info": {
      "codemirror_mode": {
        "name": "ipython",
        "version": 3
      },
      "file_extension": ".py",
      "mimetype": "text/x-python",
      "name": "python",
      "nbconvert_exporter": "python",
      "pygments_lexer": "ipython3",
      "version": "3.7.2"
    }
  },
  "nbformat": 4,
  "nbformat_minor": 0
}